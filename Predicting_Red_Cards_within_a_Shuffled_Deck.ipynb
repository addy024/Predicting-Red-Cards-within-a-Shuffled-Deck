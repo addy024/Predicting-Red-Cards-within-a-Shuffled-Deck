{
  "nbformat": 4,
  "nbformat_minor": 0,
  "metadata": {
    "colab": {
      "name": "Predicting Red Cards within a Shuffled Deck.ipynb",
      "provenance": [],
      "collapsed_sections": []
    },
    "kernelspec": {
      "name": "python3",
      "display_name": "Python 3"
    },
    "language_info": {
      "name": "python"
    }
  },
  "cells": [
    {
      "cell_type": "markdown",
      "source": [
        "# **Predicting Red Cards within a Shuffled Deck**\n",
        "\n",
        "Our aim is to play a card-game in which the cards are iteratively flipped until we tell the dealer to stop. Afterwards, one additional card is flipped. If that card is flipped. If that card is red, we win a dollar. Otherwise, we lose a dollar."
      ],
      "metadata": {
        "id": "MCxWLOymt7mh"
      }
    },
    {
      "cell_type": "markdown",
      "source": [
        "We'll start by creating a deck holding 26 red cards and 26 black cards. Black cards are represented by zeroes and red cards are represented by ones."
      ],
      "metadata": {
        "id": "rkjrU-HcurQB"
      }
    },
    {
      "cell_type": "code",
      "source": [
        "import numpy as np \n",
        "import matplotlib.pyplot as plt \n",
        "import itertools"
      ],
      "metadata": {
        "id": "AX3AVjd7vrbO"
      },
      "execution_count": 50,
      "outputs": []
    },
    {
      "cell_type": "markdown",
      "source": [
        "### **Modeling a 52-card deck**"
      ],
      "metadata": {
        "id": "HEwA0ZCsu6E1"
      }
    },
    {
      "cell_type": "code",
      "execution_count": 36,
      "metadata": {
        "id": "GPCwdHNytmDn"
      },
      "outputs": [],
      "source": [
        "red_cards = 26 * [1]\n",
        "black_cards = 26 * [0]\n",
        "unshuffled_deck = red_cards + black_cards"
      ]
    },
    {
      "cell_type": "markdown",
      "source": [
        "We'll proceed to shuffle the deck."
      ],
      "metadata": {
        "id": "7RRtfJkLvZYo"
      }
    },
    {
      "cell_type": "markdown",
      "source": [
        "### **Shuffling a 52-card deck**"
      ],
      "metadata": {
        "id": "p9qe0-gsvhEV"
      }
    },
    {
      "cell_type": "code",
      "source": [
        "np.random.seed(24)\n",
        "shuffled_deck = np.random.permutation(unshuffled_deck)"
      ],
      "metadata": {
        "id": "I4qXgPWMvWwb"
      },
      "execution_count": 37,
      "outputs": []
    },
    {
      "cell_type": "markdown",
      "source": [
        "Now we'll iteratively flip over the cards within the deck, stopping when the number of red cards remanining in the deck."
      ],
      "metadata": {
        "id": "jjIwPNwQv7Tw"
      }
    },
    {
      "cell_type": "markdown",
      "source": [
        "### **Coding a card-game strategy**"
      ],
      "metadata": {
        "id": "qJysttGWwJkU"
      }
    },
    {
      "cell_type": "code",
      "source": [
        "remaining_red_cards = 26 \n",
        "for i, card in enumerate(shuffled_deck[:-1]):\n",
        "    remaining_red_cards -= card \n",
        "    remaining_total_cards = 52 - i - 1\n",
        "    if remaining_red_cards / remaining_total_cards > 0.5:\n",
        "        break\n",
        "        \n",
        "print(f\"Stopping the game at index {i}.\")\n",
        "final_card = shuffled_deck[i + 1]\n",
        "color = 'red' if final_card else 0\n",
        "print(f\"The next card in the deck is {'red' if final_card else 'black'}.\")\n",
        "print(f\"We have {'won' if final_card else 'lost'}!\")"
      ],
      "metadata": {
        "colab": {
          "base_uri": "https://localhost:8080/"
        },
        "id": "_AYGrMV6v54K",
        "outputId": "91253bdf-1cbb-42e3-c79e-93987ade872d"
      },
      "execution_count": 38,
      "outputs": [
        {
          "output_type": "stream",
          "name": "stdout",
          "text": [
            "Stopping the game at index 24.\n",
            "The next card in the deck is red.\n",
            "We have won!\n"
          ]
        }
      ]
    },
    {
      "cell_type": "markdown",
      "source": [
        "The strategy yielded a win on our very first try. Let's generalize this strategy to halt when the fraction of remaining red cards is greater than an imputed min_red_fraction parameter."
      ],
      "metadata": {
        "id": "vN4UZ__QxaXY"
      }
    },
    {
      "cell_type": "markdown",
      "source": [
        "### **Generalizing the card-game strategy** "
      ],
      "metadata": {
        "id": "TmphgNfmx_2W"
      }
    },
    {
      "cell_type": "code",
      "source": [
        "total_cards = 52\n",
        "total_red_cards = 26\n",
        "def execute_strategy(min_fraction_red = 0.5, shuffled_deck = None, return_index = False):\n",
        "    if shuffled_deck is None:\n",
        "        shuffled_deck = np.random.permutation(unshuffled_deck)\n",
        "\n",
        "    remaining_red_cards = total_red_cards \n",
        "\n",
        "    for i, card in enumerate(shuffled_deck[:-1]):\n",
        "        remaining_red_cards -= card\n",
        "        fraction_red_cards = remaining_red_cards / (total_cards - i -1)\n",
        "        if fraction_red_cards > min_fraction_red:\n",
        "            break \n",
        "\n",
        "    return (i + 1, shuffled_deck[ i + 1 ]) if return_index else shuffled_deck[i + 1]"
      ],
      "metadata": {
        "id": "hG282XkdxRM5"
      },
      "execution_count": 39,
      "outputs": []
    },
    {
      "cell_type": "markdown",
      "source": [
        "## **Estimating the Probability of Strategy Success**\n",
        "\n",
        "Applying basic strategy to a series of 1000 random shuffles"
      ],
      "metadata": {
        "id": "dybP0VzPjdga"
      }
    },
    {
      "cell_type": "markdown",
      "source": [
        "### **Running strategy over 1000 shuffles**"
      ],
      "metadata": {
        "id": "WVRkYizpjrl0"
      }
    },
    {
      "cell_type": "code",
      "source": [
        "np.random.seed(0)\n",
        "observations = np.array([execute_strategy() for _ in range(1000)])"
      ],
      "metadata": {
        "id": "tOTUNumjzUmo"
      },
      "execution_count": 40,
      "outputs": []
    },
    {
      "cell_type": "markdown",
      "source": [
        "The total fraction of ones in observations corresponds to the observed fraction of red cards, and therefore to the fraction of wins. We can compute this fraction by calling observations.mean()."
      ],
      "metadata": {
        "id": "Fqdfqj1_kF37"
      }
    },
    {
      "cell_type": "markdown",
      "source": [
        "### **Computing the frequency of wins**"
      ],
      "metadata": {
        "id": "AlDktygTkb0f"
      }
    },
    {
      "cell_type": "code",
      "source": [
        "frequency_wins = observations.sum() / 1000\n",
        "assert frequency_wins == observations.mean()\n",
        "print(f\"The frequency of wins is {frequency_wins}\")"
      ],
      "metadata": {
        "id": "sIY-y1I7j3R7",
        "colab": {
          "base_uri": "https://localhost:8080/"
        },
        "outputId": "e928326d-e96a-400a-a3e7-5b2bca103c63"
      },
      "execution_count": 41,
      "outputs": [
        {
          "output_type": "stream",
          "name": "stdout",
          "text": [
            "The frequency of wins is 0.511\n"
          ]
        }
      ]
    },
    {
      "cell_type": "markdown",
      "source": [
        "We've won 51.1 percent of total games! Our strategy appears to be working. 524 wins and 76 losses will net us a total profit of $22."
      ],
      "metadata": {
        "id": "_-DRn1dPlinB"
      }
    },
    {
      "cell_type": "markdown",
      "source": [
        "### **Computing total profit**"
      ],
      "metadata": {
        "id": "p5635c_mlwz0"
      }
    },
    {
      "cell_type": "code",
      "source": [
        "dollars_won = frequency_wins * 1000\n",
        "dollars_lost = (1 - frequency_wins) * 1000\n",
        "total_profit = dollars_won - dollars_lost \n",
        "print(f\"Total profit is ${total_profit}\")"
      ],
      "metadata": {
        "colab": {
          "base_uri": "https://localhost:8080/"
        },
        "id": "0C8FeLc1lhA4",
        "outputId": "8ca2844d-4091-427b-be8a-f239decd61f5"
      },
      "execution_count": 42,
      "outputs": [
        {
          "output_type": "stream",
          "name": "stdout",
          "text": [
            "Total profit is $22.0\n"
          ]
        }
      ]
    },
    {
      "cell_type": "markdown",
      "source": [
        "The strategy worked well for a sample size of 1000 shuffles. We'll now plot the strategy's win-frequency convergence over a series of sample sizes ranging from 1 to 10,000."
      ],
      "metadata": {
        "id": "r32gIHlTmIWE"
      }
    },
    {
      "cell_type": "markdown",
      "source": [
        "### **Plotting simulated frequencies of wins**"
      ],
      "metadata": {
        "id": "30QBk9NTmkQK"
      }
    },
    {
      "cell_type": "code",
      "source": [
        "np.random.seed(0)\n",
        "def repeat_game(number_repeats):\n",
        "    observations = np.array([execute_strategy()\n",
        "                             for _ in range(number_repeats)]) \n",
        "    return observations.mean()\n",
        "\n",
        "frequencies = [] \n",
        "for i in range(1, 1000):\n",
        "    frequencies.append(repeat_game(i))\n",
        "\n",
        "plt.plot(list(range(1, 1000)), frequencies)\n",
        "plt.axhline(0.5, color = 'k')\n",
        "plt.xlabel('Number of Card Shuffles')\n",
        "plt.ylabel('Win-Frequency')\n",
        "plt.show();\n",
        "print(f\"The win-frequency for 10,000 shuffles is {frequencies[-1]}\")"
      ],
      "metadata": {
        "colab": {
          "base_uri": "https://localhost:8080/",
          "height": 297
        },
        "id": "ygin0cPzmHDl",
        "outputId": "b71a0e08-5b0c-4427-eb59-d8f20323e13b"
      },
      "execution_count": 43,
      "outputs": [
        {
          "output_type": "display_data",
          "data": {
            "image/png": "[encoded data removed]",
            "text/plain": [
              "<Figure size 432x288 with 1 Axes>"
            ]
          },
          "metadata": {
            "needs_background": "light"
          }
        },
        {
          "output_type": "stream",
          "name": "stdout",
          "text": [
            "The win-frequency for 10,000 shuffles is 0.5035035035035035\n"
          ]
        }
      ]
    },
    {
      "cell_type": "markdown",
      "source": [
        "Our strategy fluctuates above and below 50% through-out the entire sampling process. We'll need to compute a confidence interval to ensure that its win-rate is above 50%. We'll compute the confidence interval by sampling 10,000 card-shuffles 300 times. Shuffling an array is a computationally expensive procedure. "
      ],
      "metadata": {
        "id": "iHILh_lanvtR"
      }
    },
    {
      "cell_type": "code",
      "source": [
        "def compute_high_confidence_interval(likelihoods, bin_width):\n",
        "    peak_index = likelihoods.argmax()\n",
        "    area = likelihoods[peak_index] * bin_width\n",
        "    start_index, end_index = peak_index, peak_index + 1\n",
        "    while area < 0.95:\n",
        "        if start_index > 0:\n",
        "            start_index -= 1\n",
        "        if end_index < likelihoods.size - 1:\n",
        "            end_index += 1\n",
        "        area = likelihoods[start_index: end_index + 1].sum() * bin_width\n",
        "    range_start, range_end = bin_edges[start_index], bin_edges[end_index]\n",
        "    range_string = f\"{range_start:.6f} - {range_end:.6f}\"\n",
        "    print((f\"The frequency range {range_string} represents a \"\n",
        "    f\"{100 * area:.2f}% confidence interval\"))\n",
        "    return start_index, end_index"
      ],
      "metadata": {
        "id": "lS1z-5eFwK69"
      },
      "execution_count": 44,
      "outputs": []
    },
    {
      "cell_type": "code",
      "source": [
        "np.random.seed(0)\n",
        "frequency_array = np.array([repeat_game(10000) for _ in range(300)])\n",
        "\n",
        "likelihoods, bin_edges, patches = plt.hist(frequency_array, bins = 'auto',\n",
        "                                           edgecolor = 'black', density = True) \n",
        "bin_width = bin_edges[1] - bin_edges[0]\n",
        "start_index, end_index = compute_high_confidence_interval(likelihoods, bin_width)\n",
        "\n",
        "for i in range(start_index, end_index):\n",
        "    patches[i].set_facecolor('yellow')\n",
        "plt.xlabel('Binned Frequency')\n",
        "plt.ylabel('Relative Likelihood')\n",
        "plt.show();"
      ],
      "metadata": {
        "colab": {
          "base_uri": "https://localhost:8080/",
          "height": 297
        },
        "id": "5_IyikS2nrA_",
        "outputId": "c51a4fd2-2b36-436d-ccff-fee31bc319ee"
      },
      "execution_count": 45,
      "outputs": [
        {
          "output_type": "stream",
          "name": "stdout",
          "text": [
            "The frequency range 0.488938 - 0.509494 represents a 97.00% confidence interval\n"
          ]
        },
        {
          "output_type": "display_data",
          "data": {
            "image/png": "[encoded data removed]",
            "text/plain": [
              "<Figure size 432x288 with 1 Axes>"
            ]
          },
          "metadata": {
            "needs_background": "light"
          }
        }
      ]
    },
    {
      "cell_type": "markdown",
      "source": [
        "We can narrow the confidence interval by increasing the sample size, at the expense of running time. The code below will sample 50,000 shuffles over 3,000 iterations."
      ],
      "metadata": {
        "id": "5-RMqqP0wiE2"
      }
    },
    {
      "cell_type": "markdown",
      "source": [
        "### **Computing the confidence interval for 150 million shuffles**"
      ],
      "metadata": {
        "id": "0ycFVwUUwnD-"
      }
    },
    {
      "cell_type": "code",
      "source": [
        "np.random.seed(0)\n",
        "\n",
        "frequency_array = np.array([repeat_game(50000) for _ in range(3000)])\n",
        "likelihoods, bin_edges = np.histogram(frequency_array, bins='auto',\n",
        "                                      density=True)\n",
        "bin_width = bin_edges[1] - bin_edges[0]\n",
        "compute_high_confidence_interval(likelihoods, bin_width)"
      ],
      "metadata": {
        "id": "w7XzBVqQpd4d",
        "colab": {
          "base_uri": "https://localhost:8080/"
        },
        "outputId": "598b54b4-757c-4033-e61f-856bcadf52b7"
      },
      "execution_count": 46,
      "outputs": [
        {
          "output_type": "stream",
          "name": "stdout",
          "text": [
            "The frequency range 0.495601 - 0.504345 represents a 96.03% confidence interval\n"
          ]
        },
        {
          "output_type": "execute_result",
          "data": {
            "text/plain": [
              "(11, 32)"
            ]
          },
          "metadata": {},
          "execution_count": 46
        }
      ]
    },
    {
      "cell_type": "markdown",
      "source": [
        "We can also min_red_fraction from 0.5 to 0.75 and repeat the confidence interval calculation process."
      ],
      "metadata": {
        "id": "1Nln7XMBw14D"
      }
    },
    {
      "cell_type": "markdown",
      "source": [
        "### **Computing the confidence interval for an updated strategy**"
      ],
      "metadata": {
        "id": "q5OLCXDL_gf3"
      }
    },
    {
      "cell_type": "code",
      "source": [
        "def get_matching_event(event_condition, sample_space):\n",
        "    return set([outcome for outcome in sample_space\n",
        "                if event_condition(outcome)])"
      ],
      "metadata": {
        "id": "NjxZKTAP149F"
      },
      "execution_count": 55,
      "outputs": []
    },
    {
      "cell_type": "code",
      "source": [
        "def compute_event_probability(event_condition, generic_sample_space):\n",
        "    event = get_matching_event(event_condition, generic_sample_space)\n",
        "    if type(generic_sample_space) == type(set()):\n",
        "        return len(event) / len(generic_sample_space)\n",
        "    event_size = sum(generic_sample_space[outcome]\n",
        "                    for outcome in event)\n",
        "    return event_size / sum(generic_sample_space.values())"
      ],
      "metadata": {
        "id": "ymGOr-yo1iIW"
      },
      "execution_count": 56,
      "outputs": []
    },
    {
      "cell_type": "code",
      "source": [
        "total_cards = 10\n",
        "total_red_cards = int(total_cards / 2)\n",
        "total_black_cards = total_red_cards\n",
        "unshuffled_deck = [1] * total_red_cards + [0] * total_black_cards\n",
        "sample_space = set(itertools.permutations(unshuffled_deck))\n",
        "win_condition = lambda x: execute_strategy(shuffled_deck=np.array(x)) \n",
        "prob_win = compute_event_probability(win_condition, sample_space)\n",
        "print(f\"Probability of a win is {prob_win}\")"
      ],
      "metadata": {
        "id": "9_zHhjJt_pFn",
        "colab": {
          "base_uri": "https://localhost:8080/"
        },
        "outputId": "086befd1-19c3-427f-d627-60365fc8539c"
      },
      "execution_count": 57,
      "outputs": [
        {
          "output_type": "stream",
          "name": "stdout",
          "text": [
            "Probability of a win is 0.5\n"
          ]
        }
      ]
    },
    {
      "cell_type": "code",
      "source": [
        "def scan_strategies():\n",
        "    fractions = [value / 100 for value in range(50, 100)]\n",
        "    probabilities = []\n",
        "    for frac in fractions:\n",
        "        win_condition = lambda x: execute_strategy(frac,\n",
        "                                                   shuffled_deck=np.array(x))\n",
        "        probabilities.append(compute_event_probability(win_condition,\n",
        "                                                       sample_space))\n",
        "    return probabilities\n",
        "\n",
        "probabilities = scan_strategies()\n",
        "print(f\"Lowest probability of win is {min(probabilities)}\")\n",
        "print(f\"Highest probability of win is {max(probabilities)}\")"
      ],
      "metadata": {
        "colab": {
          "base_uri": "https://localhost:8080/"
        },
        "id": "owuG0AzEl74L",
        "outputId": "007ab28a-4a63-44fa-eee0-d1d4b5754237"
      },
      "execution_count": 58,
      "outputs": [
        {
          "output_type": "stream",
          "name": "stdout",
          "text": [
            "Lowest probability of win is 0.5\n",
            "Highest probability of win is 0.5\n"
          ]
        }
      ]
    },
    {
      "cell_type": "code",
      "source": [
        "for total_cards in [2, 4, 6, 8]:\n",
        "    total_red_cards = int(total_cards / 2)\n",
        "    total_black_cards = total_red_cards\n",
        "    unshuffled_deck = [1] * total_red_cards + [0] * total_black_cards\n",
        "\n",
        "    sample_space = set(itertools.permutations(unshuffled_deck))\n",
        "    probabilities = scan_strategies()\n",
        "    if all(prob == 0.5 for prob in probabilities):\n",
        "        print(f\"No winning strategy found for deck of size {total_cards}\")\n",
        "    else:\n",
        "        print(f\"Winning strategy found for deck of size {total_cards}\")"
      ],
      "metadata": {
        "colab": {
          "base_uri": "https://localhost:8080/"
        },
        "id": "2_SKtNvRl96d",
        "outputId": "bae04a1a-3fbb-4a22-f06f-ee3479a92fcd"
      },
      "execution_count": 59,
      "outputs": [
        {
          "output_type": "stream",
          "name": "stdout",
          "text": [
            "No winning strategy found for deck of size 2\n",
            "No winning strategy found for deck of size 4\n",
            "No winning strategy found for deck of size 6\n",
            "No winning strategy found for deck of size 8\n"
          ]
        }
      ]
    },
    {
      "cell_type": "code",
      "source": [
        "np.random.seed(0)\n",
        "total_cards = 52\n",
        "total_red_cards = 26\n",
        "unshuffled_deck = red_cards + black_cards\n",
        "\n",
        "def repeat_game_detailed(number_repeats, min_red_fraction):\n",
        "\n",
        "    observations = [execute_strategy(min_red_fraction, return_index=True)\n",
        "                    for _ in range(num_repeats)] \n",
        "    successes = [index for index, card, in observations if card == 1] \n",
        "    halt_success = len([index for index in successes if index != 51]) \n",
        "    no_halt_success = len(successes) - halt_success \n",
        "\n",
        "    failures = [index for index, card, in observations if card == 0] \n",
        "    halt_failure = len([index for index in failures if index != 51]) \n",
        "    no_halt_failure = len(failures) - halt_failure \n",
        "    result = [halt_success, halt_failure, no_halt_success, no_halt_failure]\n",
        "    return [r / number_repeats for r in result] \n",
        "\n",
        "fractions = [value / 100 for value in range(50, 100)]\n",
        "num_repeats = 50000\n",
        "result_types = [[], [], [], []]\n",
        "\n",
        "for fraction in fractions: \n",
        "    result = repeat_game_detailed(num_repeats, fraction)\n",
        "    for i in range(4):\n",
        "        result_types[i].append(result[i])\n",
        "\n",
        "plt.plot(fractions, result_types[0],\n",
        "         label='A) Strategy Halts. We Win.')\n",
        "plt.plot(fractions, result_types[1], linestyle='--',\n",
        "         label='B) Strategy Halts. We Lose.')\n",
        "plt.plot(fractions, result_types[2], linestyle=':',\n",
        "         label='C) No Halt. We Win.')\n",
        "plt.plot(fractions, result_types[3], linestyle='-.',\n",
        "         label='D) No Halt. We Lose.')\n",
        "plt.xlabel('min_red_fraction')\n",
        "plt.ylabel('Frequency')\n",
        "plt.legend(bbox_to_anchor=(0.25, 1.0))\n",
        "plt.show()"
      ],
      "metadata": {
        "colab": {
          "base_uri": "https://localhost:8080/",
          "height": 348
        },
        "id": "-AbABOXfl_4k",
        "outputId": "2642bcfe-adff-45c4-e967-71c5f6aad0d5"
      },
      "execution_count": 60,
      "outputs": [
        {
          "output_type": "display_data",
          "data": {
            "image/png": "[encoded data removed]",
            "text/plain": [
              "<Figure size 432x288 with 1 Axes>"
            ]
          },
          "metadata": {
            "needs_background": "light"
          }
        }
      ]
    },
    {
      "cell_type": "code",
      "source": [
        "def optimal_strategy(shuffled_deck):\n",
        "    return shuffled_deck[0]"
      ],
      "metadata": {
        "id": "TLz0tW2tmDcF"
      },
      "execution_count": 61,
      "outputs": []
    }
  ]
}